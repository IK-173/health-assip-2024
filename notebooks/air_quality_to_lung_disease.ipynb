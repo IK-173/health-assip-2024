{
 "cells": [
  {
   "cell_type": "code",
   "execution_count": 3,
   "id": "a7c29903-bbbc-40bc-97d3-9c8410ff4e6f",
   "metadata": {
    "tags": []
   },
   "outputs": [
    {
     "ename": "SyntaxError",
     "evalue": "invalid character '‘' (U+2018) (2060970110.py, line 12)",
     "output_type": "error",
     "traceback": [
      "\u001b[0;36m  Cell \u001b[0;32mIn[3], line 12\u001b[0;36m\u001b[0m\n\u001b[0;31m    gdf = gdf.rename(columns={‘County Nam’: ‘County Name’, ‘% Change i’: ‘% Change in Mortality Rate, 1980-2014’, ‘geometry_x’: ‘geometry’})\u001b[0m\n\u001b[0m                              ^\u001b[0m\n\u001b[0;31mSyntaxError\u001b[0m\u001b[0;31m:\u001b[0m invalid character '‘' (U+2018)\n"
     ]
    }
   ],
   "source": [
    "import numpy as np\n",
    "import pandas as pd\n",
    "import geopandas as gpd\n",
    "from mgwr.gwr import GWR\n",
    "from mgwr.sel_bw import Sel_BW\n",
    "import os\n",
    "import geopandas as gpd\n",
    "# Load the shapefile into a GeoDataFrame\n",
    "gdf = gpd.read_file(os.path.abspath(\"../data/county_shapefile.shp\"))\n",
    "print(gdf.head())\n",
    "# Rename the columns to fix any typos and remove unwanted suffixes\n",
    "gdf = gdf.rename(columns={‘County Nam’: ‘County Name’, ‘% Change i’: ‘% Change in Mortality Rate, 1980-2014’, ‘geometry_x’: ‘geometry’})\n",
    "print(gdf.head())\n",
    "coords = list(zip(gdf.geometry.centroid.x, gdf.geometry.centroid.y))\n",
    "y = gdf[[‘Mortality’]].values\n",
    "X = gdf[[‘PM2.5’, ‘Ozone’]].values\n",
    "# Bandwidth selection\n",
    "sel_bw = Sel_BW(coords, y, X)\n",
    "bw = sel_bw.search()"
   ]
  }
 ],
 "metadata": {
  "kernelspec": {
   "display_name": "Python 3 (ipykernel)",
   "language": "python",
   "name": "python3"
  },
  "language_info": {
   "codemirror_mode": {
    "name": "ipython",
    "version": 3
   },
   "file_extension": ".py",
   "mimetype": "text/x-python",
   "name": "python",
   "nbconvert_exporter": "python",
   "pygments_lexer": "ipython3",
   "version": "3.11.5"
  }
 },
 "nbformat": 4,
 "nbformat_minor": 5
}
